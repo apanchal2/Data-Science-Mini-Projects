{
 "cells": [
  {
   "cell_type": "markdown",
   "metadata": {},
   "source": [
    "# What is the True Normal Human Body Temperature? \n",
    "\n",
    "#### Background\n",
    "\n",
    "The mean normal body temperature was held to be 37$^{\\circ}$C or 98.6$^{\\circ}$F for more than 120 years since it was first conceptualized and reported by Carl Wunderlich in a famous 1868 book. But, is this value statistically correct?"
   ]
  },
  {
   "cell_type": "markdown",
   "metadata": {},
   "source": [
    "<h3>Exercises</h3>\n",
    "\n",
    "<p>In this exercise, you will analyze a dataset of human body temperatures and employ the concepts of hypothesis testing, confidence intervals, and statistical significance.</p>\n",
    "\n",
    "<p>Answer the following questions <b>in this notebook below and submit to your Github account</b>.</p> \n",
    "\n",
    "<ol>\n",
    "<li>  Is the distribution of body temperatures normal? \n",
    "    <ul>\n",
    "    <li> Although this is not a requirement for CLT to hold (read CLT carefully), it gives us some peace of mind that the population may also be normally distributed if we assume that this sample is representative of the population.\n",
    "    </ul>\n",
    "<li>  Is the sample size large? Are the observations independent?\n",
    "    <ul>\n",
    "    <li> Remember that this is a condition for the CLT, and hence the statistical tests we are using, to apply.\n",
    "    </ul>\n",
    "<li>  Is the true population mean really 98.6 degrees F?\n",
    "    <ul>\n",
    "    <li> Would you use a one-sample or two-sample test? Why?\n",
    "    <li> In this situation, is it appropriate to use the $t$ or $z$ statistic? \n",
    "    <li> Now try using the other test. How is the result be different? Why?\n",
    "    </ul>\n",
    "<li>  Draw a small sample of size 10 from the data and repeat both tests. \n",
    "    <ul>\n",
    "    <li> Which one is the correct one to use? \n",
    "    <li> What do you notice? What does this tell you about the difference in application of the $t$ and $z$ statistic?\n",
    "    </ul>\n",
    "<li>  At what temperature should we consider someone's temperature to be \"abnormal\"?\n",
    "    <ul>\n",
    "    <li> Start by computing the margin of error and confidence interval.\n",
    "    </ul>\n",
    "<li>  Is there a significant difference between males and females in normal temperature?\n",
    "    <ul>\n",
    "    <li> What test did you use and why?\n",
    "    <li> Write a story with your conclusion in the context of the original problem.\n",
    "    </ul>\n",
    "</ol>\n",
    "\n",
    "You can include written notes in notebook cells using Markdown: \n",
    "   - In the control panel at the top, choose Cell > Cell Type > Markdown\n",
    "   - Markdown syntax: http://nestacms.com/docs/creating-content/markdown-cheat-sheet\n",
    "\n",
    "#### Resources\n",
    "\n",
    "+ Information and data sources: http://www.amstat.org/publications/jse/datasets/normtemp.txt, http://www.amstat.org/publications/jse/jse_data_archive.htm\n",
    "+ Markdown syntax: http://nestacms.com/docs/creating-content/markdown-cheat-sheet\n",
    "\n",
    "****"
   ]
  },
  {
   "cell_type": "markdown",
   "metadata": {},
   "source": [
    "<a id='Intro'></a>"
   ]
  },
  {
   "cell_type": "markdown",
   "metadata": {},
   "source": [
    "**1.**               [Is the distribution of body temperatures normal?](#Question 1)"
   ]
  },
  {
   "cell_type": "markdown",
   "metadata": {},
   "source": [
    "**2. **[Is the sample size large? Are the observations independent?](#Question 2)"
   ]
  },
  {
   "cell_type": "markdown",
   "metadata": {},
   "source": [
    "**3. **[Is the true population mean really 98.6 degrees F?](#Question 3)"
   ]
  },
  {
   "cell_type": "markdown",
   "metadata": {},
   "source": [
    "**4. **[Draw a sample of size 10 from the data and repeat both tests.](#Question 4)"
   ]
  },
  {
   "cell_type": "markdown",
   "metadata": {},
   "source": [
    "**5. **[At what temperature should we consider someone's temperature to be \"abnormal\"?](#Question 5)"
   ]
  },
  {
   "cell_type": "markdown",
   "metadata": {},
   "source": [
    "**6. **[Is there a significant difference between males and females in normal temperature?](#Question 6)"
   ]
  },
  {
   "cell_type": "code",
   "execution_count": 43,
   "metadata": {
    "collapsed": true
   },
   "outputs": [],
   "source": [
    "import pandas as pd\n",
    "\n",
    "df = pd.read_csv('data/human_body_temperature.csv')"
   ]
  },
  {
   "cell_type": "code",
   "execution_count": 44,
   "metadata": {
    "collapsed": false
   },
   "outputs": [
    {
     "name": "stdout",
     "output_type": "stream",
     "text": [
      "<class 'pandas.core.frame.DataFrame'>\n",
      "RangeIndex: 130 entries, 0 to 129\n",
      "Data columns (total 3 columns):\n",
      "temperature    130 non-null float64\n",
      "gender         130 non-null object\n",
      "heart_rate     130 non-null float64\n",
      "dtypes: float64(2), object(1)\n",
      "memory usage: 3.1+ KB\n"
     ]
    },
    {
     "data": {
      "text/plain": [
       "temperature    0\n",
       "gender         0\n",
       "heart_rate     0\n",
       "dtype: int64"
      ]
     },
     "execution_count": 44,
     "metadata": {},
     "output_type": "execute_result"
    }
   ],
   "source": [
    "# Your work here.\n",
    "\n",
    "# The following code helps understand what's in the df dataframe\n",
    "df.info()\n",
    "df.head()\n",
    "df.isnull().sum()"
   ]
  },
  {
   "cell_type": "markdown",
   "metadata": {},
   "source": [
    "**The output above shows that there are 130 rows and 3 columns in the dataframe. It also shows that there are no null values.**"
   ]
  },
  {
   "cell_type": "code",
   "execution_count": 45,
   "metadata": {
    "collapsed": false
   },
   "outputs": [
    {
     "data": {
      "text/html": [
       "<div>\n",
       "<table border=\"1\" class=\"dataframe\">\n",
       "  <thead>\n",
       "    <tr style=\"text-align: right;\">\n",
       "      <th></th>\n",
       "      <th>temperature</th>\n",
       "      <th>heart_rate</th>\n",
       "    </tr>\n",
       "  </thead>\n",
       "  <tbody>\n",
       "    <tr>\n",
       "      <th>count</th>\n",
       "      <td>130.000000</td>\n",
       "      <td>130.000000</td>\n",
       "    </tr>\n",
       "    <tr>\n",
       "      <th>mean</th>\n",
       "      <td>98.249231</td>\n",
       "      <td>73.761538</td>\n",
       "    </tr>\n",
       "    <tr>\n",
       "      <th>std</th>\n",
       "      <td>0.733183</td>\n",
       "      <td>7.062077</td>\n",
       "    </tr>\n",
       "    <tr>\n",
       "      <th>min</th>\n",
       "      <td>96.300000</td>\n",
       "      <td>57.000000</td>\n",
       "    </tr>\n",
       "    <tr>\n",
       "      <th>25%</th>\n",
       "      <td>97.800000</td>\n",
       "      <td>69.000000</td>\n",
       "    </tr>\n",
       "    <tr>\n",
       "      <th>50%</th>\n",
       "      <td>98.300000</td>\n",
       "      <td>74.000000</td>\n",
       "    </tr>\n",
       "    <tr>\n",
       "      <th>75%</th>\n",
       "      <td>98.700000</td>\n",
       "      <td>79.000000</td>\n",
       "    </tr>\n",
       "    <tr>\n",
       "      <th>max</th>\n",
       "      <td>100.800000</td>\n",
       "      <td>89.000000</td>\n",
       "    </tr>\n",
       "  </tbody>\n",
       "</table>\n",
       "</div>"
      ],
      "text/plain": [
       "       temperature  heart_rate\n",
       "count   130.000000  130.000000\n",
       "mean     98.249231   73.761538\n",
       "std       0.733183    7.062077\n",
       "min      96.300000   57.000000\n",
       "25%      97.800000   69.000000\n",
       "50%      98.300000   74.000000\n",
       "75%      98.700000   79.000000\n",
       "max     100.800000   89.000000"
      ]
     },
     "execution_count": 45,
     "metadata": {},
     "output_type": "execute_result"
    }
   ],
   "source": [
    "# The following code gets the summary statistics of the numerical columns\n",
    "df.describe()"
   ]
  },
  {
   "cell_type": "markdown",
   "metadata": {},
   "source": [
    "**The summary statistics show that the temperature mean is 98.25 with standard deviation of 0.73 and the range is from 96.30 to 100.80. **"
   ]
  },
  {
   "cell_type": "code",
   "execution_count": 46,
   "metadata": {
    "collapsed": false
   },
   "outputs": [],
   "source": [
    "# Import necessary libraries\n",
    "import numpy as np\n",
    "import seaborn as sns\n",
    "import matplotlib.pyplot as plt\n",
    "import scipy.stats as stats\n",
    "sns.set()\n"
   ]
  },
  {
   "cell_type": "markdown",
   "metadata": {},
   "source": [
    "## <a id='Question 1'>Is the distribution of body temperatures normal?</a>"
   ]
  },
  {
   "cell_type": "code",
   "execution_count": 47,
   "metadata": {
    "collapsed": false,
    "scrolled": false
   },
   "outputs": [
    {
     "data": {
      "image/png": "[encoded data removed]",
      "text/plain": [
       "<matplotlib.figure.Figure at 0x17fa1d24b70>"
      ]
     },
     "metadata": {},
     "output_type": "display_data"
    }
   ],
   "source": [
    "# The code below draws a boxplot of temperature \n",
    "plt.subplot(1,2,1)\n",
    "_ = sns.boxplot(y = 'temperature', data = df)\n",
    "_ = plt.title('Boxplot for Temperature')\n",
    "_ = plt.xlabel('All Genders')\n",
    "_ = plt.ylabel('Temperature')\n",
    "\n",
    "plt.subplot(1,2,2)\n",
    "# The code below draws the boxplot of temperature based on gender.\n",
    "_ = sns.boxplot(x = 'gender', y = 'temperature', hue='gender', data=df)\n",
    "_ = plt.title('Boxplot for Temperature')\n",
    "_ = plt.xlabel('Gender')\n",
    "_ = plt.ylabel('Temperature')\n",
    "plt.tight_layout()\n",
    "plt.show()\n",
    "\n"
   ]
  },
  {
   "cell_type": "markdown",
   "metadata": {},
   "source": [
    "**The figures above show the boxplot for temperature regardless of gender and also the boxplot for temperature based on gender. None of the values seem to be outliers. It can also be seen that the median for Male body temperature is lower than median for Female body temperature. **"
   ]
  },
  {
   "cell_type": "code",
   "execution_count": 48,
   "metadata": {
    "collapsed": false
   },
   "outputs": [
    {
     "data": {
      "image/png": "[encoded data removed]",
      "text/plain": [
       "<matplotlib.figure.Figure at 0x17fa099db38>"
      ]
     },
     "metadata": {},
     "output_type": "display_data"
    }
   ],
   "source": [
    "# The code below outputs a histogram of temperature and also theoratical probability density function to show if the temperature\n",
    "# distribution has a normal bell curve.\n",
    "\n",
    "temp = sorted(df.temperature)\n",
    "lens = len(df.temperature)\n",
    "\n",
    "# bin would be used to get the total number of bins used for the histogram\n",
    "bin = int(np.sqrt(lens))\n",
    "\n",
    "# get temperature mean and temperature standard deviation\n",
    "temp_mean, temp_std = df.temperature.mean(), df.temperature.std()\n",
    "\n",
    "# get the normal probability distribution function (PDF) for temperature by using the mean and standard deviation from temperature column.\n",
    "normal = stats.norm.pdf(temp, temp_mean, temp_std)\n",
    "\n",
    "# Draw the histogram\n",
    "_ = df['temperature'].hist(bins=bin, rwidth=.7, grid=True, color='c', normed=True, range=(min(df['temperature']), max(df['temperature'])),  align='left')\n",
    "\n",
    "# Overlay normal PDF \n",
    "_ = plt.plot(temp, normal, color='b')\n",
    "\n",
    "# Set the xticks and labels\n",
    "_ = plt.xticks(np.around(np.arange(min(df.temperature), max(df.temperature), (max(df.temperature)-min(df.temperature))/bin), decimals=1), rotation=90)\n",
    "_ = plt.xlabel('Temperature')\n",
    "_ = plt.ylabel('Frequency')\n",
    "_ = plt.title('Temperature Distribution')\n",
    "plt.show()"
   ]
  },
  {
   "cell_type": "markdown",
   "metadata": {},
   "source": [
    "**The diagram above shows that the histogram follows a normal bell curve indicating that the distribution of temperature is approximately normal. **"
   ]
  },
  {
   "cell_type": "code",
   "execution_count": 49,
   "metadata": {
    "collapsed": false
   },
   "outputs": [
    {
     "data": {
      "image/png": "[encoded data removed]",
      "text/plain": [
       "<matplotlib.figure.Figure at 0x17fa19fca20>"
      ]
     },
     "metadata": {},
     "output_type": "display_data"
    }
   ],
   "source": [
    "# Below is the code that defines a function \"ecdf\" that return the sorted data (input parameter) and an array going from 0 to 1\n",
    "def ecdf(temp):\n",
    "    temp = np.sort(temp)\n",
    "    length = len(temp)\n",
    "    y = np.arange(1, len(temp)+1)/length\n",
    "    return temp, y\n",
    "\n",
    "# plot the ecdf of temp\n",
    "x_temp, y_temp = ecdf(temp)\n",
    "_ = plt.plot(x_temp, y_temp, linestyle='none',marker='.', color='b')\n",
    "_ = plt.xlabel('Temperature')\n",
    "_ = plt.ylabel('ECDF')\n",
    "_ = plt.title('CDF of Human Temperature Sample Data and Normally Distributed Data')\n",
    "_ = plt.margins(0.1)\n",
    "\n",
    "# Seed for the Random number generator\n",
    "np.random.seed(42)\n",
    "# plot the ecdf of normally distributed data that has the same mean and std. dev. as the human temp data\n",
    "norm_temp = np.random.normal(temp_mean, temp_std,10000)\n",
    "x_norm, y_norm = ecdf(norm_temp)\n",
    "_ = plt.plot(x_norm, y_norm, linestyle='none', marker='.', color='r')\n",
    "plt.legend(('Temperature Distribution', 'Normal Distribution'), loc=0)\n",
    "plt.show()\n",
    "   \n",
    "    \n"
   ]
  },
  {
   "cell_type": "markdown",
   "metadata": {},
   "source": [
    "**The diagram above shows the Cumulative Distribution Function of both the Temperature Distribution (Blue) and Normal Distribution (Red) calculated from the Temperature mean and Temperature Standard Deviation. It can be seen that both the distribution align well enough. This is another way to show that the Human Temperature data is normally distributed.**"
   ]
  },
  {
   "cell_type": "markdown",
   "metadata": {},
   "source": [
    "[Back to Intro](#Intro)"
   ]
  },
  {
   "cell_type": "markdown",
   "metadata": {},
   "source": [
    "## <a id='Question 2'>Is the sample size large? Are the observations independent?</a>"
   ]
  },
  {
   "cell_type": "markdown",
   "metadata": {
    "collapsed": true
   },
   "source": [
    "**As per the Central Limit Theorem the sample size of 30 or more is considered to be large enough for it to be normally distributed. The number of observations in this dataset is 130 which can be considered sufficiently large. Also these observations are temperatures of human body and there is no indication that these observations are dependent upon each other. Hence it is safe to assume that these observations are independent. **"
   ]
  },
  {
   "cell_type": "markdown",
   "metadata": {},
   "source": [
    "[Back to Intro](#Intro)"
   ]
  },
  {
   "cell_type": "markdown",
   "metadata": {},
   "source": [
    "## <a id='Question 3'>Is the true population mean really 98.6 degrees F?</a>"
   ]
  },
  {
   "cell_type": "markdown",
   "metadata": {
    "collapsed": true
   },
   "source": [
    "**The normal human body temperature is considered to be 98.6 degree F. Since the sample observation mean would be compared to the population mean we would use one-sample test. If we were to conduct comparison test between two populations then we would choose two-sample test. **\n",
    "\n",
    "**We do not know the standard deviation of the population. Since this information is not known, it is appropriate to use the t test statistic rather than the z test statistic. **\n",
    "\n",
    "**The hypothesis that we would be testing is as follows:**\n",
    "\n",
    "**Null Hypothesis:**\n",
    "* H0: μ = 98.6\n",
    "\n",
    "**Alternative Hypothesis:**\n",
    "* H1: μ ≠ 98.6\n",
    "\n",
    "**Significance Level:**\n",
    "* α = 0.05"
   ]
  },
  {
   "cell_type": "code",
   "execution_count": 50,
   "metadata": {
    "collapsed": false
   },
   "outputs": [
    {
     "name": "stdout",
     "output_type": "stream",
     "text": [
      "T statistics : -5.454823292364077\n",
      "P value : 4.821264083122016e-07\n",
      "Is p value below the significant alpha level:  True\n"
     ]
    }
   ],
   "source": [
    "# Perform a 1 Sample Test to get the t statistics and p value\n",
    "t_stat = stats.ttest_1samp(temp, 98.6)[0]\n",
    "p_stat = stats.ttest_1samp(temp, 98.6)[1]\n",
    "print ('T statistics : {}'.format(t_stat))\n",
    "print ('P value : {}'.format(p_stat * 2))\n",
    "\n",
    "print('Is p value below the significant alpha level: ', (p_stat * 2 < 0.05))"
   ]
  },
  {
   "cell_type": "code",
   "execution_count": 51,
   "metadata": {
    "collapsed": false
   },
   "outputs": [
    {
     "name": "stdout",
     "output_type": "stream",
     "text": [
      "Lower Bound: -1.9785244914586055\n",
      "Upper Bound: 1.978524491458605\n",
      "Is t statistics below lower bound or above the upper bound :  True\n"
     ]
    }
   ],
   "source": [
    "# Obtain the critical value corresponding to the significance level and degree of freedom\n",
    "# q = α/2 (0.05/2) since it is a two tail test\n",
    "lower = stats.t.ppf(q=0.025, df=len(temp)-1)\n",
    "upper = stats.t.ppf(q=0.975, df=len(temp)-1)\n",
    "print('Lower Bound: {}'.format(lower))\n",
    "print('Upper Bound: {}'.format(upper))\n",
    "\n",
    "print('Is t statistics below lower bound or above the upper bound : ', (t_stat < lower) | (t_stat > upper))"
   ]
  },
  {
   "cell_type": "code",
   "execution_count": 52,
   "metadata": {
    "collapsed": false
   },
   "outputs": [
    {
     "name": "stdout",
     "output_type": "stream",
     "text": [
      "Lower Bound: -2.856119554241514\n",
      "Upper Bound: 2.8561195542415216\n",
      "Is t statistics below lower bound or above the upper bound :  True\n"
     ]
    }
   ],
   "source": [
    "# Check t probability distribution at a much lower significance level of 0.005\n",
    "lower = stats.t.ppf(q=0.0025, df = len(temp)-1)\n",
    "upper = stats.t.ppf(q=0.9975, df = len(temp)-1)\n",
    "print('Lower Bound: {}'.format(lower))\n",
    "print('Upper Bound: {}'.format(upper))\n",
    "\n",
    "print('Is t statistics below lower bound or above the upper bound : ', (t_stat < lower) | (t_stat > upper))"
   ]
  },
  {
   "cell_type": "markdown",
   "metadata": {
    "collapsed": true
   },
   "source": [
    "**It can be seen that the T statistics is less than the Lower bound of the critical value corresponding to the significance level of 0.05. It can also be seen that the T statistics is less than the lower bound of the t distribution corresponding to the significance level of 0.005 (99.5% confidence level). Hence, we can reject the null hypothesis in favor of the alternative hypothesis. At 0.05 significance level the normal human body temperature is not 98.6.  **\n",
    "\n",
    "**Since this is a two tail test the p value is multiplied by 2. Since this p value (4.82e-07) is less than the significant alpha level (0.05) we would reject the null hypothesis in favor of the alternative hypothesis. We reach the same conclusion whether we use the critical value approach or the p value approach. At 0.05 significance level the normal human body temperature is not 98.6. **"
   ]
  },
  {
   "cell_type": "markdown",
   "metadata": {},
   "source": [
    "**Although it is appropriate to use T statistics for the given data, a Z statistics can be used by approximating the standard deviation.**"
   ]
  },
  {
   "cell_type": "code",
   "execution_count": 53,
   "metadata": {
    "collapsed": false
   },
   "outputs": [
    {
     "name": "stdout",
     "output_type": "stream",
     "text": [
      "Z stat: -5.454823292364079\n",
      "P Value: 4.90215701411338e-08\n"
     ]
    }
   ],
   "source": [
    "# Calculate the z statistics\n",
    "# Since the test is a two tailed test, the p value should be multiplied by 2\n",
    "std_err = temp_std/np.sqrt(lens)\n",
    "z_stat = (temp_mean - 98.6)/std_err\n",
    "p_stat = stats.norm.cdf(z_stat) * 2\n",
    "\n",
    "print('Z stat: {}'.format(z_stat))\n",
    "print('P Value: {}'.format(p_stat))"
   ]
  },
  {
   "cell_type": "code",
   "execution_count": 54,
   "metadata": {
    "collapsed": false
   },
   "outputs": [
    {
     "name": "stdout",
     "output_type": "stream",
     "text": [
      "Lower Bound: -1.9599639845400545\n",
      "Upper Bound: 1.959963984540054\n"
     ]
    }
   ],
   "source": [
    "# Find the lower and upper bound of the critical value corresponding to the alpha level 0.05.\n",
    "lower = stats.norm.ppf(q=0.025)\n",
    "upper = stats.norm.ppf(q=0.975)\n",
    "\n",
    "print('Lower Bound: {}'.format(lower))\n",
    "print('Upper Bound: {}'.format(upper))"
   ]
  },
  {
   "cell_type": "markdown",
   "metadata": {},
   "source": [
    "**Since the Z stat is lower than the lower bound, reject the null hypothesis in favor of the alternative hypothesis. We reach the same conclusion regarding the mean of the human body temperature regardless of the test statistics we use. It can also be noticed that the T statistics and Z statistics were both approximately -5.45 and hence not much difference between both of them.**"
   ]
  },
  {
   "cell_type": "markdown",
   "metadata": {},
   "source": [
    "[Back to Intro](#Intro)"
   ]
  },
  {
   "cell_type": "markdown",
   "metadata": {},
   "source": [
    "## <a id='Question 4'>Draw a sample of size 10 from the data and repeat both tests.</a>"
   ]
  },
  {
   "cell_type": "markdown",
   "metadata": {},
   "source": [
    "**We can draw a sample of size 10 from the data and perform the t and z statistics. T statistics would be appropriate to use in this case since we do not know the population standard deviation. But the population standard deviation can be approximated and this appromixated standard deviation could be used for getting the z statistics. We have the same null and alternative hypothesis with the α = 0.05.**"
   ]
  },
  {
   "cell_type": "code",
   "execution_count": 55,
   "metadata": {
    "collapsed": false
   },
   "outputs": [],
   "source": [
    "# Seed for the random number generator\n",
    "np.random.seed(42)\n",
    "\n",
    "# Randomly select 10 temperature data from the provided data set.\n",
    "sample = np.random.choice(df.temperature, size=10)"
   ]
  },
  {
   "cell_type": "code",
   "execution_count": 56,
   "metadata": {
    "collapsed": false
   },
   "outputs": [
    {
     "name": "stdout",
     "output_type": "stream",
     "text": [
      "T Statistics: -3.0934479202257976\n",
      "P Value: 0.025715409209618727\n",
      "Is p value below the alpha level of 0.05 :  True\n"
     ]
    }
   ],
   "source": [
    "# Obtain the T statistics and the corresponding p value\n",
    "t_stat = stats.ttest_1samp(sample, 98.6)[0]\n",
    "p_stat = stats.ttest_1samp(sample, 98.6)[1]\n",
    "print('T Statistics: {}'.format(t_stat))\n",
    "print('P Value: {}'.format(p_stat * 2))\n",
    "\n",
    "print('Is p value below the alpha level of 0.05 : ', (p_stat * 2 < 0.05))"
   ]
  },
  {
   "cell_type": "code",
   "execution_count": 57,
   "metadata": {
    "collapsed": false
   },
   "outputs": [
    {
     "name": "stdout",
     "output_type": "stream",
     "text": [
      "Lower Bound: -2.262157162740992\n",
      "Upper Bound: 2.2621571627409915\n",
      "Is t statistics below the lower bound or above the upper bound :  True\n"
     ]
    }
   ],
   "source": [
    "# Find the lower and upper bound for the critical value corresponding to the alpha level of 0.05.\n",
    "lower = stats.t.ppf(q=0.025, df=len(sample)-1)\n",
    "upper = stats.t.ppf(q=0.975, df=len(sample)-1)\n",
    "print('Lower Bound: {}'.format(lower))\n",
    "print('Upper Bound: {}'.format(upper))\n",
    "\n",
    "print('Is t statistics below the lower bound or above the upper bound : ', (t_stat < lower) | (t_stat > upper))"
   ]
  },
  {
   "cell_type": "code",
   "execution_count": 58,
   "metadata": {
    "collapsed": false
   },
   "outputs": [
    {
     "name": "stdout",
     "output_type": "stream",
     "text": [
      "Z Statistics: -3.260780417008125\n",
      "P Value: 0.001111060453904971\n",
      "Is p value below the alpha level of 0.05 :  True\n"
     ]
    }
   ],
   "source": [
    "# Find the z statistics and p value\n",
    "se = np.std(sample)/np.sqrt(len(sample))\n",
    "z_stat = (np.mean(sample) - 98.6)/se\n",
    "p_stat = stats.norm.cdf(z_stat) * 2\n",
    "print('Z Statistics: {}'.format(z_stat))\n",
    "print('P Value: {}'.format(p_stat))\n",
    "\n",
    "\n",
    "print('Is p value below the alpha level of 0.05 : ', (p_stat < 0.05))"
   ]
  },
  {
   "cell_type": "code",
   "execution_count": 59,
   "metadata": {
    "collapsed": false
   },
   "outputs": [
    {
     "name": "stdout",
     "output_type": "stream",
     "text": [
      "Lower Bound: -1.9599639845400545\n",
      "Upper Bound: 1.959963984540054\n",
      "Is z statistics below the lower bound or above the upper bound :  True\n"
     ]
    }
   ],
   "source": [
    "# Find the lower and upper bound for the critical value corresponding to the alpha level of 0.05.\n",
    "lower = stats.norm.ppf(q=0.025)\n",
    "upper = stats.norm.ppf(q=0.975)\n",
    "print('Lower Bound: {}'.format(lower))\n",
    "print('Upper Bound: {}'.format(upper))\n",
    "print('Is z statistics below the lower bound or above the upper bound : ', (z_stat < lower) | (z_stat > upper))"
   ]
  },
  {
   "cell_type": "markdown",
   "metadata": {},
   "source": [
    "**It can be seen that both the T statistics and Z statistics are lower than their respective lower bounds. Since this is the case we would reject the null hypothesis in favor of the alternative hypothesis. At 0.05 alpha level the mean of the human body temperature is not 98.6. It can be observed that the t statistics (-3.09) is higher than the Z statistics (-3.26).**"
   ]
  },
  {
   "cell_type": "markdown",
   "metadata": {},
   "source": [
    "[Back to Intro](#Intro)"
   ]
  },
  {
   "cell_type": "markdown",
   "metadata": {},
   "source": [
    "## <a id='Question 5'>At what temperature should we consider someone's temperature to be \"abnormal\"?</a>"
   ]
  },
  {
   "cell_type": "code",
   "execution_count": 60,
   "metadata": {
    "collapsed": false
   },
   "outputs": [
    {
     "data": {
      "text/plain": [
       "1.6448536269514722"
      ]
     },
     "execution_count": 60,
     "metadata": {},
     "output_type": "execute_result"
    }
   ],
   "source": [
    "# Start by computing the margin of error and confidence interval.\n",
    "# We have been looking at the null hypothesis at 95% confidence level. \n",
    "z_crit = stats.norm.ppf(q=0.95)\n",
    "z_crit"
   ]
  },
  {
   "cell_type": "code",
   "execution_count": 61,
   "metadata": {
    "collapsed": false
   },
   "outputs": [
    {
     "data": {
      "text/plain": [
       "0.10577135326480434"
      ]
     },
     "execution_count": 61,
     "metadata": {},
     "output_type": "execute_result"
    }
   ],
   "source": [
    "# Margin of Error is calculated by multiplying z_critical and standard error\n",
    "moe = z_crit * std_err\n",
    "moe"
   ]
  },
  {
   "cell_type": "code",
   "execution_count": 62,
   "metadata": {
    "collapsed": false
   },
   "outputs": [
    {
     "name": "stdout",
     "output_type": "stream",
     "text": [
      "95% Confidence Interval:  [ 98.14345942  98.35500212]\n"
     ]
    }
   ],
   "source": [
    "conf_int = np.array([temp_mean - moe, temp_mean + moe])\n",
    "print('95% Confidence Interval: ', conf_int)"
   ]
  },
  {
   "cell_type": "markdown",
   "metadata": {},
   "source": [
    "**Although the 95% Confidence Interval shown above provides an interval within which the human body temperature could be considered normal, it might not be the best choice to consider someone's temperature to be not normal (or abnormal). Anything outside the confidence interval should not be considered abnormal. We should look at an individual's body temperature against the prediction interval whose mean is the mean temperature provided in the data.  **"
   ]
  },
  {
   "cell_type": "code",
   "execution_count": 63,
   "metadata": {
    "collapsed": false
   },
   "outputs": [
    {
     "name": "stdout",
     "output_type": "stream",
     "text": [
      "95% Prediction Interval:  (96.812218185403111, 99.686243353058444)\n"
     ]
    }
   ],
   "source": [
    "pred_int = stats.norm.interval(0.95, temp_mean, temp_std)\n",
    "print('95% Prediction Interval: ', pred_int)"
   ]
  },
  {
   "cell_type": "markdown",
   "metadata": {},
   "source": [
    "**Anything outside the 95% Prediction Interval can be considered abnormal.**"
   ]
  },
  {
   "cell_type": "markdown",
   "metadata": {},
   "source": [
    "[Back to Intro](#Intro)"
   ]
  },
  {
   "cell_type": "markdown",
   "metadata": {},
   "source": [
    "## <a id='Question 6'>Is there a significant difference between males and females in normal temperature?</a>"
   ]
  },
  {
   "cell_type": "code",
   "execution_count": 64,
   "metadata": {
    "collapsed": false
   },
   "outputs": [
    {
     "data": {
      "image/png": "[encoded data removed]",
      "text/plain": [
       "<matplotlib.figure.Figure at 0x17fa1d24b38>"
      ]
     },
     "metadata": {},
     "output_type": "display_data"
    },
    {
     "name": "stdout",
     "output_type": "stream",
     "text": [
      "Mean of Female body temperature: 98.39384615384613\n",
      "Mean of Male body temperature: 98.1046153846154\n"
     ]
    }
   ],
   "source": [
    "# Is there a significant difference between males and females in normal temperature?\n",
    "# What test did you use and why?\n",
    "# Write a story with your conclusion in the context of the original problem.\n",
    "fem_temp = df.temperature[df.gender == 'F']\n",
    "male_temp = df.temperature[df.gender == 'M']\n",
    "fem_len = len(fem_temp)\n",
    "male_len = len(male_temp)\n",
    "fem_mean = np.mean(fem_temp)\n",
    "male_mean = np.mean(male_temp)\n",
    "\n",
    "_ = sns.boxplot(x = 'gender', y = 'temperature', data=df, hue='gender')\n",
    "_ = plt.xlabel('Gender')\n",
    "_ = plt.ylabel('Temperature $^\\circ$F')\n",
    "_ = plt.title('Boxplot of Male and Female Body Temperature')\n",
    "plt.show()\n",
    "\n",
    "print('Mean of Female body temperature:', fem_mean)\n",
    "print('Mean of Male body temperature:', male_mean)"
   ]
  },
  {
   "cell_type": "markdown",
   "metadata": {},
   "source": [
    "**It can be seen from the box plot that the mean of the female body temperature is slightly higher than the mean of the male body temperature. However, we need to figure out whether the difference is statistically large enough to be considered significantly different. The test would be comparing the mean of female and male body temperature. Hence it would be 2 sample test.**"
   ]
  },
  {
   "cell_type": "markdown",
   "metadata": {},
   "source": [
    "**Null Hypothesis:** There is no significant difference between the male and female human body temperatures.\n",
    "\n",
    "* H0:μ females−μ males=0\n",
    "\n",
    "**Alternate Hypothesis:** \n",
    "\n",
    "* H1:μ females−μ males≠0\n",
    "\n",
    "**Significance Level:**\n",
    "\n",
    "* α = 0.05"
   ]
  },
  {
   "cell_type": "code",
   "execution_count": 65,
   "metadata": {
    "collapsed": true
   },
   "outputs": [],
   "source": [
    "# define a function that takes in 2 data sets and returns 2 data sets that were permutation samples of the data sets provided\n",
    "# as parameters for the function. \n",
    "def permute_sample(data1, data2):\n",
    "    data = np.concatenate((data1, data2))\n",
    "    permute_data = np.random.permutation(data)\n",
    "    permute_sample1 = permute_data[:len(data1)]\n",
    "    permute_sample2 = permute_data[len(data1):]\n",
    "    \n",
    "    return permute_sample1, permute_sample2\n",
    "    \n",
    "# define a function that takes in 2 data sets, a function, and replicate size and returns the calculated (based on the function\n",
    "# provided as the parameter) replicate.\n",
    "def draw_permute_replicate(data1, data2, func, size=1):\n",
    "    permute_replicate = np.empty(size)\n",
    "    for i in range(size):\n",
    "        permute_sample1, permute_sample2 = permute_sample(data1, data2)\n",
    "        permute_replicate[i] = func(permute_sample1, permute_sample2)\n",
    "    return permute_replicate\n",
    "\n",
    "# define a function that takes in 2 data sets and returns the mean difference between the two\n",
    "def diff_mean(data1, data2):\n",
    "    return np.abs(np.mean(data1) - np.mean(data2))\n",
    "\n"
   ]
  },
  {
   "cell_type": "code",
   "execution_count": 66,
   "metadata": {
    "collapsed": false
   },
   "outputs": [
    {
     "name": "stdout",
     "output_type": "stream",
     "text": [
      "Difference between the mean of female body temperature and mean of male body temperature:  0.289230769231\n",
      "P Value:  0.0496\n"
     ]
    }
   ],
   "source": [
    "np.random.seed(42)\n",
    "\n",
    "# calculate the actual difference seen in the female body temperature and male body temperature\n",
    "emp_diff = diff_mean(fem_temp, male_temp)\n",
    "\n",
    "# get the permuation replicate of size 10000\n",
    "permute_rep = draw_permute_replicate(fem_temp, male_temp, diff_mean, 10000)\n",
    "\n",
    "p = np.sum(permute_rep >= emp_diff)/len(permute_rep)\n",
    "\n",
    "print('Difference between the mean of female body temperature and mean of male body temperature: ', emp_diff)\n",
    "print('P Value: ', p*2)"
   ]
  },
  {
   "cell_type": "markdown",
   "metadata": {},
   "source": [
    "**Since the p-value of 0.0496 is lower than the alpha level of 0.05, we would reject the null hypothesis in favor of the alternative hypothesis. This suggests that the difference between the Female body temperature and Male body temperature is not equal. However, the actual mean difference between the Female body temperature and Male body temperature is not that big (only 0.289 degrees F). **"
   ]
  },
  {
   "cell_type": "code",
   "execution_count": 67,
   "metadata": {
    "collapsed": false
   },
   "outputs": [
    {
     "name": "stdout",
     "output_type": "stream",
     "text": [
      "T statistics: 2.2854345381656103 \n",
      "P-Value: 0.04786376624479122\n"
     ]
    }
   ],
   "source": [
    "t_stat = stats.ttest_ind(fem_temp, male_temp)[0]\n",
    "p_value = stats.ttest_ind(fem_temp, male_temp)[1]\n",
    "print('T statistics: {}'.format(t_stat), '\\nP-Value: {}'.format(p_value*2))"
   ]
  },
  {
   "cell_type": "code",
   "execution_count": 68,
   "metadata": {
    "collapsed": false
   },
   "outputs": [
    {
     "name": "stdout",
     "output_type": "stream",
     "text": [
      "Lower Bound: -1.9977296536259739 \n",
      "Upper Bound: 1.9977296536259734\n"
     ]
    }
   ],
   "source": [
    "lower = stats.t.ppf(q=0.025, df=len(fem_temp)-1)\n",
    "upper = stats.t.ppf(q=0.975, df=len(fem_temp)-1)\n",
    "print('Lower Bound: {}'.format(lower), '\\nUpper Bound: {}'.format(upper))"
   ]
  },
  {
   "cell_type": "markdown",
   "metadata": {},
   "source": [
    "**Since the T statistics is above the upper bound, we would reject the null hypothesis in favor of the alternative hypothesis. This test also suggests that the difference between the Female and Male body temperature is not equal. **"
   ]
  },
  {
   "cell_type": "markdown",
   "metadata": {},
   "source": [
    "**From the t test and z test statistics it can be seen that the mean of the male and female body temperature are not equal. In general Female body temperatures are a little bit higher than the male body temperature. It was also found that the normal body temperature is not actually 98.6 degrees F. As long as the body temperature of a person is between the 95% prediction interval of human temperature, 96.8 to 99.7 degrees F, there shouldn't be a cause of concern. However it might be considered abnormal if the body temperature is found below or above the 95% prediction interval.  **"
   ]
  },
  {
   "cell_type": "markdown",
   "metadata": {},
   "source": [
    "[Back to Intro](#Intro)"
   ]
  }
 ],
 "metadata": {
  "kernelspec": {
   "display_name": "Python 3",
   "language": "python",
   "name": "python3"
  },
  "language_info": {
   "codemirror_mode": {
    "name": "ipython",
    "version": 3
   },
   "file_extension": ".py",
   "mimetype": "text/x-python",
   "name": "python",
   "nbconvert_exporter": "python",
   "pygments_lexer": "ipython3",
   "version": "3.6.0"
  }
 },
 "nbformat": 4,
 "nbformat_minor": 1
}
